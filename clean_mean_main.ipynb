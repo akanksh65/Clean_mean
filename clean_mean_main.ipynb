{
 "cells": [
  {
   "cell_type": "markdown",
   "id": "045a4e62",
   "metadata": {},
   "source": [
    "# Do not change file & functions names!"
   ]
  },
  {
   "attachments": {
    "image-2.png": {
     "image/png": "[encoded data removed]"
    }
   },
   "cell_type": "markdown",
   "id": "9011ebb3",
   "metadata": {},
   "source": [
    "If you see amessage indicating that you have unsaved changes in this notebook. Maske sure to click save!\n",
    "![image-2.png](attachment:image-2.png)"
   ]
  },
  {
   "cell_type": "code",
   "execution_count": 1,
   "id": "49490bbf",
   "metadata": {},
   "outputs": [],
   "source": [
    "def mean_and_std(sample):\n",
    "    #create variables for mean and std from a sample\n",
    "    total=0\n",
    "    for _ in sample:\n",
    "        total+= _\n",
    "        \n",
    "\n",
    "    mean = total/len(sample)# mean of the list\n",
    "\n",
    "    diffsquared=0\n",
    "    sum_diffsquared=0\n",
    "    for _ in sample:\n",
    "        diffsquared = (_ - mean)**2\n",
    "        sum_diffsquared = sum_diffsquared + diffsquared\n",
    "        std = ((sum_diffsquared)/len(sample))**(1/2)\n",
    "        \n",
    "\n",
    "    \n",
    "    return mean, std "
   ]
  },
  {
   "cell_type": "code",
   "execution_count": 2,
   "id": "powered-tennessee",
   "metadata": {},
   "outputs": [],
   "source": [
    "def validation(sample, cutoff):\n",
    "    #get mean and std from the previous function and return the new mean\n",
    "    #with precision of 2 decimal points\n",
    "    mean, std = mean_and_std(sample)\n",
    "        \n",
    "    for x in sample:\n",
    "        if x > (mean + cutoff*std) or x < (mean - cutoff*std):\n",
    "            sample.remove(x)\n",
    "        \n",
    "    new_mean1, new_std = mean_and_std(sample)\n",
    "    new_mean=round(new_mean1,2)\n",
    "    \n",
    "            \n",
    "    return new_mean\n",
    "    "
   ]
  },
  {
   "cell_type": "markdown",
   "id": "34b5015a",
   "metadata": {},
   "source": [
    "## You can test your functions here:"
   ]
  },
  {
   "cell_type": "code",
   "execution_count": 3,
   "id": "968b4fc7",
   "metadata": {},
   "outputs": [],
   "source": [
    "sample = [1,2,3,5,4,0.9,26,31,420,3,4,2,7]\n",
    "cutoff = 2\n",
    "#You can try this example or change the data points in the variables"
   ]
  },
  {
   "cell_type": "code",
   "execution_count": 4,
   "id": "d27d2fb2",
   "metadata": {},
   "outputs": [
    {
     "data": {
      "text/plain": [
       "(39.146153846153844, 110.33143505878176)"
      ]
     },
     "execution_count": 4,
     "metadata": {},
     "output_type": "execute_result"
    }
   ],
   "source": [
    "mean_and_std(sample)"
   ]
  },
  {
   "cell_type": "code",
   "execution_count": 5,
   "id": "57bee55a",
   "metadata": {},
   "outputs": [
    {
     "data": {
      "text/plain": [
       "7.41"
      ]
     },
     "execution_count": 5,
     "metadata": {},
     "output_type": "execute_result"
    }
   ],
   "source": [
    "validation(sample, cutoff)"
   ]
  },
  {
   "cell_type": "markdown",
   "id": "c16c609b",
   "metadata": {},
   "source": [
    "## Once you are sure about your solution click \"Save\" and then click Check answer!"
   ]
  },
  {
   "cell_type": "code",
   "execution_count": null,
   "id": "7101dd23",
   "metadata": {},
   "outputs": [],
   "source": []
  }
 ],
 "metadata": {
  "kernelspec": {
   "display_name": "Python 3 (ipykernel)",
   "language": "python",
   "name": "python3"
  },
  "language_info": {
   "codemirror_mode": {
    "name": "ipython",
    "version": 3
   },
   "file_extension": ".py",
   "mimetype": "text/x-python",
   "name": "python",
   "nbconvert_exporter": "python",
   "pygments_lexer": "ipython3",
   "version": "3.9.13"
  }
 },
 "nbformat": 4,
 "nbformat_minor": 5
}
